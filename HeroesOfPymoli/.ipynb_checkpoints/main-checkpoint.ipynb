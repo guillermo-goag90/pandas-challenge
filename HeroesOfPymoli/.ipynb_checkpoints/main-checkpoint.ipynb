{
 "cells": [
  {
   "cell_type": "code",
   "execution_count": 1,
   "metadata": {},
   "outputs": [],
   "source": [
    "import pandas as pd\n",
    "from functools import reduce"
   ]
  },
  {
   "cell_type": "code",
   "execution_count": 2,
   "metadata": {},
   "outputs": [
    {
     "data": {
      "text/html": [
       "<div>\n",
       "<style scoped>\n",
       "    .dataframe tbody tr th:only-of-type {\n",
       "        vertical-align: middle;\n",
       "    }\n",
       "\n",
       "    .dataframe tbody tr th {\n",
       "        vertical-align: top;\n",
       "    }\n",
       "\n",
       "    .dataframe thead th {\n",
       "        text-align: right;\n",
       "    }\n",
       "</style>\n",
       "<table border=\"1\" class=\"dataframe\">\n",
       "  <thead>\n",
       "    <tr style=\"text-align: right;\">\n",
       "      <th></th>\n",
       "      <th>Purchase ID</th>\n",
       "      <th>SN</th>\n",
       "      <th>Age</th>\n",
       "      <th>Gender</th>\n",
       "      <th>Item ID</th>\n",
       "      <th>Item Name</th>\n",
       "      <th>Price</th>\n",
       "    </tr>\n",
       "  </thead>\n",
       "  <tbody>\n",
       "    <tr>\n",
       "      <th>0</th>\n",
       "      <td>0</td>\n",
       "      <td>Lisim78</td>\n",
       "      <td>20</td>\n",
       "      <td>Male</td>\n",
       "      <td>108</td>\n",
       "      <td>Extraction, Quickblade Of Trembling Hands</td>\n",
       "      <td>3.53</td>\n",
       "    </tr>\n",
       "    <tr>\n",
       "      <th>1</th>\n",
       "      <td>1</td>\n",
       "      <td>Lisovynya38</td>\n",
       "      <td>40</td>\n",
       "      <td>Male</td>\n",
       "      <td>143</td>\n",
       "      <td>Frenzied Scimitar</td>\n",
       "      <td>1.56</td>\n",
       "    </tr>\n",
       "    <tr>\n",
       "      <th>2</th>\n",
       "      <td>2</td>\n",
       "      <td>Ithergue48</td>\n",
       "      <td>24</td>\n",
       "      <td>Male</td>\n",
       "      <td>92</td>\n",
       "      <td>Final Critic</td>\n",
       "      <td>4.88</td>\n",
       "    </tr>\n",
       "    <tr>\n",
       "      <th>3</th>\n",
       "      <td>3</td>\n",
       "      <td>Chamassasya86</td>\n",
       "      <td>24</td>\n",
       "      <td>Male</td>\n",
       "      <td>100</td>\n",
       "      <td>Blindscythe</td>\n",
       "      <td>3.27</td>\n",
       "    </tr>\n",
       "    <tr>\n",
       "      <th>4</th>\n",
       "      <td>4</td>\n",
       "      <td>Iskosia90</td>\n",
       "      <td>23</td>\n",
       "      <td>Male</td>\n",
       "      <td>131</td>\n",
       "      <td>Fury</td>\n",
       "      <td>1.44</td>\n",
       "    </tr>\n",
       "  </tbody>\n",
       "</table>\n",
       "</div>"
      ],
      "text/plain": [
       "   Purchase ID             SN  Age Gender  Item ID  \\\n",
       "0            0        Lisim78   20   Male      108   \n",
       "1            1    Lisovynya38   40   Male      143   \n",
       "2            2     Ithergue48   24   Male       92   \n",
       "3            3  Chamassasya86   24   Male      100   \n",
       "4            4      Iskosia90   23   Male      131   \n",
       "\n",
       "                                   Item Name  Price  \n",
       "0  Extraction, Quickblade Of Trembling Hands   3.53  \n",
       "1                          Frenzied Scimitar   1.56  \n",
       "2                               Final Critic   4.88  \n",
       "3                                Blindscythe   3.27  \n",
       "4                                       Fury   1.44  "
      ]
     },
     "execution_count": 2,
     "metadata": {},
     "output_type": "execute_result"
    }
   ],
   "source": [
    "file = \"Resources/purchase_data.csv\"\n",
    "heroes_df = pd.read_csv(file, encoding=\"utf-8\")\n",
    "heroes_df.head()"
   ]
  },
  {
   "cell_type": "code",
   "execution_count": 3,
   "metadata": {},
   "outputs": [
    {
     "data": {
      "text/html": [
       "<div>\n",
       "<style scoped>\n",
       "    .dataframe tbody tr th:only-of-type {\n",
       "        vertical-align: middle;\n",
       "    }\n",
       "\n",
       "    .dataframe tbody tr th {\n",
       "        vertical-align: top;\n",
       "    }\n",
       "\n",
       "    .dataframe thead th {\n",
       "        text-align: right;\n",
       "    }\n",
       "</style>\n",
       "<table border=\"1\" class=\"dataframe\">\n",
       "  <thead>\n",
       "    <tr style=\"text-align: right;\">\n",
       "      <th></th>\n",
       "      <th>Total Players</th>\n",
       "    </tr>\n",
       "  </thead>\n",
       "  <tbody>\n",
       "    <tr>\n",
       "      <th>0</th>\n",
       "      <td>576</td>\n",
       "    </tr>\n",
       "  </tbody>\n",
       "</table>\n",
       "</div>"
      ],
      "text/plain": [
       "   Total Players\n",
       "0            576"
      ]
     },
     "execution_count": 3,
     "metadata": {},
     "output_type": "execute_result"
    }
   ],
   "source": [
    "# Create a unique list of players (series) and count\n",
    "players_series = heroes_df[\"SN\"].value_counts()\n",
    "count_players = players_series.count()\n",
    "\n",
    "# Create a new dictionary and turn it into data frame (for display)\n",
    "total_players_dict = [{\"Total Players\": count_players}]\n",
    "total_players_df = pd.DataFrame(total_players_dict)\n",
    "total_players_df"
   ]
  },
  {
   "cell_type": "code",
   "execution_count": 4,
   "metadata": {},
   "outputs": [
    {
     "data": {
      "text/html": [
       "<style  type=\"text/css\" >\n",
       "</style><table id=\"T_079ad6ac_c7e0_11ea_92f1_68ecc5f5bd5f\" ><thead>    <tr>        <th class=\"blank level0\" ></th>        <th class=\"col_heading level0 col0\" >Number of Unique Items</th>        <th class=\"col_heading level0 col1\" >Average Price</th>        <th class=\"col_heading level0 col2\" >Number of Purchases</th>        <th class=\"col_heading level0 col3\" >Total Revenue</th>    </tr></thead><tbody>\n",
       "                <tr>\n",
       "                        <th id=\"T_079ad6ac_c7e0_11ea_92f1_68ecc5f5bd5flevel0_row0\" class=\"row_heading level0 row0\" >0</th>\n",
       "                        <td id=\"T_079ad6ac_c7e0_11ea_92f1_68ecc5f5bd5frow0_col0\" class=\"data row0 col0\" >179</td>\n",
       "                        <td id=\"T_079ad6ac_c7e0_11ea_92f1_68ecc5f5bd5frow0_col1\" class=\"data row0 col1\" >$3.05</td>\n",
       "                        <td id=\"T_079ad6ac_c7e0_11ea_92f1_68ecc5f5bd5frow0_col2\" class=\"data row0 col2\" >780</td>\n",
       "                        <td id=\"T_079ad6ac_c7e0_11ea_92f1_68ecc5f5bd5frow0_col3\" class=\"data row0 col3\" >$2379.77</td>\n",
       "            </tr>\n",
       "    </tbody></table>"
      ],
      "text/plain": [
       "<pandas.io.formats.style.Styler at 0x2284fb66240>"
      ]
     },
     "execution_count": 4,
     "metadata": {},
     "output_type": "execute_result"
    }
   ],
   "source": [
    "# 1.a Number of unique items\n",
    "items_df = heroes_df.groupby(\"Item ID\")\n",
    "items_count = len(items_df)\n",
    "\n",
    "# 1.b Alternative for counting items\n",
    "items_series = heroes_df[\"Item ID\"].value_counts() # series counts appearances by item (e.g. ID 0 = 4, 178 = 12 )\n",
    "count_items = items_series.count() # count rows or unique items\n",
    "\n",
    "# 2 Average price (of total purchases, not unique items)\n",
    "average_price = heroes_df[\"Price\"].mean()\n",
    "\n",
    "# 3 Number of purchases\n",
    "purchases = len(heroes_df)\n",
    "\n",
    "# 4 Total revenue\n",
    "revenue = heroes_df[\"Price\"].sum()\n",
    "\n",
    "# 5 Purchasing dictionary: putting it all together\n",
    "purchasing_dict = [{\"Number of Unique Items\": items_count, \n",
    "               \"Average Price\": average_price, \n",
    "               \"Number of Purchases\": purchases,\n",
    "              \"Total Revenue\": revenue}]\n",
    "purchasing_df = pd.DataFrame(purchasing_dict)\n",
    "\n",
    "\n",
    "purchasing_df = purchasing_df.style.format({\"Average Price\": \"${:.2f}\",\"Total Revenue\": \"${:.2f}\"})\n",
    "purchasing_df"
   ]
  },
  {
   "cell_type": "code",
   "execution_count": 7,
   "metadata": {},
   "outputs": [
    {
     "data": {
      "text/plain": [
       "['Male', 'Other / Non-Disclosed', 'Female']"
      ]
     },
     "execution_count": 7,
     "metadata": {},
     "output_type": "execute_result"
    }
   ],
   "source": [
    "gender_df = heroes_df[\"Gender\"]\n",
    "gender_list = []\n",
    "for row in gender_df:\n",
    "    if row not in gender_list:\n",
    "        gender_list.append(row)\n",
    "gender_list"
   ]
  },
  {
   "cell_type": "code",
   "execution_count": 9,
   "metadata": {},
   "outputs": [],
   "source": [
    "def gender_stats(i):\n",
    "    gender = gender_list[i]\n",
    "    \n",
    "    df = heroes_df.loc[heroes_df[\"Gender\"] == gender, [\"SN\",\"Gender\"]]\n",
    "    total = len(df.groupby([\"SN\"]))\n",
    "    percent = total/count_players\n",
    "    return total, percent\n",
    "\n",
    "male_stats = list(gender_stats(0))\n",
    "other_stats = list(gender_stats(1))\n",
    "female_stats = list(gender_stats(2))"
   ]
  },
  {
   "cell_type": "code",
   "execution_count": 10,
   "metadata": {},
   "outputs": [
    {
     "data": {
      "text/html": [
       "<style  type=\"text/css\" >\n",
       "</style><table id=\"T_39f18870_c7e0_11ea_bb8f_68ecc5f5bd5f\" ><thead>    <tr>        <th class=\"blank level0\" ></th>        <th class=\"col_heading level0 col0\" >Total Players</th>        <th class=\"col_heading level0 col1\" >Percentage of Players</th>    </tr></thead><tbody>\n",
       "                <tr>\n",
       "                        <th id=\"T_39f18870_c7e0_11ea_bb8f_68ecc5f5bd5flevel0_row0\" class=\"row_heading level0 row0\" >Male</th>\n",
       "                        <td id=\"T_39f18870_c7e0_11ea_bb8f_68ecc5f5bd5frow0_col0\" class=\"data row0 col0\" >484</td>\n",
       "                        <td id=\"T_39f18870_c7e0_11ea_bb8f_68ecc5f5bd5frow0_col1\" class=\"data row0 col1\" >84.03%</td>\n",
       "            </tr>\n",
       "            <tr>\n",
       "                        <th id=\"T_39f18870_c7e0_11ea_bb8f_68ecc5f5bd5flevel0_row1\" class=\"row_heading level0 row1\" >Other / Non-Disclosed</th>\n",
       "                        <td id=\"T_39f18870_c7e0_11ea_bb8f_68ecc5f5bd5frow1_col0\" class=\"data row1 col0\" >11</td>\n",
       "                        <td id=\"T_39f18870_c7e0_11ea_bb8f_68ecc5f5bd5frow1_col1\" class=\"data row1 col1\" >1.91%</td>\n",
       "            </tr>\n",
       "            <tr>\n",
       "                        <th id=\"T_39f18870_c7e0_11ea_bb8f_68ecc5f5bd5flevel0_row2\" class=\"row_heading level0 row2\" >Female</th>\n",
       "                        <td id=\"T_39f18870_c7e0_11ea_bb8f_68ecc5f5bd5frow2_col0\" class=\"data row2 col0\" >81</td>\n",
       "                        <td id=\"T_39f18870_c7e0_11ea_bb8f_68ecc5f5bd5frow2_col1\" class=\"data row2 col1\" >14.06%</td>\n",
       "            </tr>\n",
       "    </tbody></table>"
      ],
      "text/plain": [
       "<pandas.io.formats.style.Styler at 0x22850a7c8d0>"
      ]
     },
     "execution_count": 10,
     "metadata": {},
     "output_type": "execute_result"
    }
   ],
   "source": [
    "# Player Gender Analysis\n",
    "total_players = [male_stats[0], other_stats[0], female_stats[0]]\n",
    "percent_players = [male_stats[1], other_stats[1], female_stats[1]]\n",
    "\n",
    "gender_data = pd.DataFrame({\"Total Players\": total_players,\n",
    "                  \"Percentage of Players\": percent_players}, index= gender_list)\n",
    "\n",
    "gender_data = gender_data.style.format({\"Total Players\": \"{:.0f}\",\"Percentage of Players\": \"{:.2%}\"})\n",
    "\n",
    "gender_data"
   ]
  },
  {
   "cell_type": "code",
   "execution_count": null,
   "metadata": {},
   "outputs": [],
   "source": [
    "# Purchases by Gender Function\n",
    "def purchase_stats(i):\n",
    "    gender = gender_list[i]\n",
    "    \n",
    "    df = heroes_df.loc[heroes_df[\"Gender\"] == gender, [\"SN\",\"Gender\", \"Price\"]]\n",
    "    purchases = len(df)\n",
    "    avg_price = df[\"Price\"].mean()\n",
    "    total_value = df[\"Price\"].sum()\n",
    "    avg_purchase = total_value/total_players[i]\n",
    "    return purchases, avg_price, total_value, avg_purchase\n",
    "    \n",
    "male_purchases = list(purchase_stats(0))\n",
    "other_purchases = list(purchase_stats(1))\n",
    "female_purchases = list(purchase_stats(2))"
   ]
  },
  {
   "cell_type": "code",
   "execution_count": null,
   "metadata": {},
   "outputs": [],
   "source": [
    "# Purchases by Gender Visualization \n",
    "purchase_df = pd.DataFrame({\"Total Purchases\": [male_purchases[0], other_purchases[0], female_purchases[0]],\n",
    "                     \"Average Price\": [male_purchases[1], other_purchases[1], female_purchases[1]],\n",
    "                     \"Purchase Value\":[male_purchases[2], other_purchases[2], female_purchases[2]],\n",
    "                     \"Average Purchase\":[male_purchases[3], other_purchases[3], female_purchases[3]]}, index= gender_list)\n",
    "\n",
    "purchase_df = purchase_df.style.format({\"Average Price\": \"${:.2f}\",\"Purchase Value\": \"${:.2f}\",\"Average Purchase\": \"${:.2f}\"})\n",
    "purchase_df"
   ]
  },
  {
   "cell_type": "code",
   "execution_count": null,
   "metadata": {},
   "outputs": [],
   "source": [
    "bins = [0, 10, 15, 20, 25, 30, 35, 40, 1000]\n",
    "age_range = [\"<10\", \"10-14\", \"15-19\", \"20-24\", \"25-29\", \"30-34\", \"35-40\", \"40+\"]\n",
    "\n",
    "age_df = heroes_df[[\"SN\", \"Age\", \"Price\"]]\n",
    "age_df[\"Age Range\"] = pd.cut(age_df[\"Age\"], bins, labels=age_range, right=False, include_lowest=True)\n",
    "\n",
    "age_range_df = age_df[[\"SN\",\"Age Range\"]].drop_duplicates(subset=\"SN\")\n",
    "age_range_df = age_range_df[\"Age Range\"].value_counts(sort=False).to_frame()\n",
    "age_range_df[\"Percentage of Players\"] = (age_range_df[\"Age Range\"]/count_players).map(\"{:.2%}\".format)\n",
    "\n",
    "age_range_df.rename(columns = {\"Age Range\":\"Total Count\"})"
   ]
  },
  {
   "cell_type": "code",
   "execution_count": null,
   "metadata": {},
   "outputs": [],
   "source": [
    "age_purchase_count = age_df.groupby('Age Range')['Price'].count().to_frame()\n",
    "age_purchase_value =age_df.groupby('Age Range')['Price'].sum().to_frame()\n",
    "age_purchase_avg = age_df.groupby('Age Range')['Price'].mean().to_frame()\n",
    "\n",
    "age_dfs = [age_purchase_count, age_purchase_value, age_purchase_avg]\n",
    "age_df_merge = reduce(lambda left,right: pd.merge(left,right,on=\"Age Range\"), age_dfs)\n",
    "age_df_merge[\"Average P/Person\"] = age_df_merge[\"Price_y\"]/age_df_merge[\"Price_x\"]\n",
    "\n",
    "age_df_final = age_df_merge.rename(columns={\"Price_x\":\"Purchase Count\", \n",
    "                                            \"Price_y\":\"Total Purchase Value\", \n",
    "                                            \"Price\":\"Average Purchase Price\"})\n",
    "\n",
    "age_df_final = age_df_final.style.format({\"Total Purchase Value\": \"${:.2f}\",\n",
    "                                          \"Average Purchase Price\": \"${:.2f}\",\n",
    "                                         \"Average P/Person\":\"${:.2f}\"})\n",
    "\n",
    "age_df_final"
   ]
  },
  {
   "cell_type": "code",
   "execution_count": null,
   "metadata": {},
   "outputs": [],
   "source": [
    "count_spenders = heroes_df[[\"SN\", \"Price\"]].groupby([\"SN\"]).count()\n",
    "value_spenders = heroes_df[[\"SN\", \"Price\"]].groupby([\"SN\"]).sum()\n",
    "\n",
    "merge_spenders = pd.merge(count_spenders, value_spenders, on=\"SN\")\n",
    "merge_spenders[\"avg\"] = (merge_spenders[\"Price_y\"]/merge_spenders[\"Price_x\"]).map(\"${:.2f}\".format)\n",
    "\n",
    "top_spenders = merge_spenders.sort_values(\"Price_y\", ascending=False).head(5)\n",
    "top_spenders = top_spenders.rename(columns={\"Price_x\":\"Purchase Count\", \n",
    "                                            \"Price_y\":\"Total Purchase Value\", \n",
    "                                            \"avg\":\"Average Purchase Price\"})\n",
    "top_spenders"
   ]
  },
  {
   "cell_type": "code",
   "execution_count": null,
   "metadata": {},
   "outputs": [],
   "source": [
    "items_desc = heroes_df[[\"Item ID\",\"Item Name\", \"Price\"]].drop_duplicates([\"Item ID\"])\n",
    "items_count = heroes_df[[\"Item ID\", \"Price\"]].groupby([\"Item ID\"]).count()\n",
    "items_value = heroes_df[[\"Item ID\", \"Price\"]].groupby([\"Item ID\"]).sum()\n",
    "\n",
    "dfs = [items_desc, items_count, items_value]\n",
    "df_final = reduce(lambda left,right: pd.merge(left,right,on=\"Item ID\"), dfs).set_index(\"Item ID\")\n",
    "\n",
    "popular_items = df_final.sort_values(\"Price_y\", ascending=False).head(5)\n",
    "popular_items = popular_items.rename(columns={\"Price_x\":\"Item Price\", \n",
    "                                            \"Price_y\":\"Purchase Count\", \n",
    "                                            \"Price\":\"Total Purchase Value\"})\n",
    "\n",
    "\n",
    "popular_items = popular_items[[\"Item Name\", \"Purchase Count\", \"Item Price\", \"Total Purchase Value\"]]\n",
    "popular_items.iloc[:,2] = popular_items.iloc[:,2].map('${:,.2f}'.format)\n",
    "popular_items.iloc[:,3] = popular_items.iloc[:,3].map('${:,.2f}'.format)\n",
    "\n",
    "popular_items"
   ]
  },
  {
   "cell_type": "code",
   "execution_count": null,
   "metadata": {},
   "outputs": [],
   "source": [
    "profitable_items = df_final.sort_values(\"Price\", ascending=False).head(10)\n",
    "profitable_items = popular_items.rename(columns={\"Price_x\":\"Item Price\", \n",
    "                                            \"Price_y\":\"Purchase Count\", \n",
    "                                            \"Price\":\"Total Purchase Value\"})\n",
    "\n",
    "profitable_items"
   ]
  },
  {
   "cell_type": "code",
   "execution_count": null,
   "metadata": {},
   "outputs": [],
   "source": [
    "# attempt \n",
    "\"\"\"def gender_stats_2(gender):\n",
    "    for gender in gender_list:\n",
    "        gender = gender\n",
    "        \n",
    "        df = heroes_df.loc[heroes_df[\"Gender\"] == gender, [\"SN\",\"Gender\"]]\n",
    "        total = len(df.groupby([\"SN\"]))\n",
    "        totals =[]\n",
    "        totals.append(total)\n",
    "        return totals\n",
    "        \n",
    "totals = gender_stats_2(gender_list)\n",
    "totals\"\"\""
   ]
  },
  {
   "cell_type": "code",
   "execution_count": null,
   "metadata": {},
   "outputs": [],
   "source": []
  }
 ],
 "metadata": {
  "kernelspec": {
   "display_name": "Python 3.6.10 64-bit ('PythonData': conda)",
   "language": "python",
   "name": "python361064bitpythondataconda80a20061597447b9b6ab1bfe914af48d"
  },
  "language_info": {
   "codemirror_mode": {
    "name": "ipython",
    "version": 3
   },
   "file_extension": ".py",
   "mimetype": "text/x-python",
   "name": "python",
   "nbconvert_exporter": "python",
   "pygments_lexer": "ipython3",
   "version": "3.6.10"
  }
 },
 "nbformat": 4,
 "nbformat_minor": 4
}
